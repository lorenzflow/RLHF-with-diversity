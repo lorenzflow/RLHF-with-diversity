{
  "nbformat": 4,
  "nbformat_minor": 0,
  "metadata": {
    "colab": {
      "provenance": [],
      "include_colab_link": true
    },
    "kernelspec": {
      "name": "python3",
      "display_name": "Python 3"
    },
    "language_info": {
      "name": "python"
    }
  },
  "cells": [
    {
      "cell_type": "markdown",
      "metadata": {
        "id": "view-in-github",
        "colab_type": "text"
      },
      "source": [
        "<a href=\"https://colab.research.google.com/github/lorenzflow/RLHF-with-diversity/blob/main/RLHF_with_diversity.ipynb\" target=\"_parent\"><img src=\"https://colab.research.google.com/assets/colab-badge.svg\" alt=\"Open In Colab\"/></a>"
      ]
    },
    {
      "cell_type": "code",
      "execution_count": null,
      "metadata": {
        "id": "pilJ1GrDxSYB"
      },
      "outputs": [],
      "source": [
        "import matplotlib.pyplot as plt\n",
        "import numpy as np\n",
        "from collections import Counter"
      ]
    },
    {
      "cell_type": "markdown",
      "source": [
        "# Reward Function"
      ],
      "metadata": {
        "id": "plV8tSPXMvr_"
      }
    },
    {
      "cell_type": "code",
      "source": [
        "SEQ_LENGTH = 7\n",
        "\n",
        "def reward(seq):\n",
        "  if not seq.isalpha():\n",
        "    return 0\n",
        "  if len(seq) != SEQ_LENGTH:\n",
        "    return 0\n",
        "  return Counter(seq.upper()).most_common()[0][1]"
      ],
      "metadata": {
        "id": "7700i-L8Ia6L"
      },
      "execution_count": null,
      "outputs": []
    },
    {
      "cell_type": "markdown",
      "source": [],
      "metadata": {
        "id": "AdwhXTyqIbGa"
      }
    },
    {
      "cell_type": "markdown",
      "source": [
        "This function outputs "
      ],
      "metadata": {
        "id": "93P98Mm9HDoq"
      }
    },
    {
      "cell_type": "code",
      "source": [
        "def preference1(sequence):\n",
        "  pass\n",
        "\n",
        "def preference2(sequence):\n",
        "  pass\n",
        "\n",
        "np.zeros(10)\n"
      ],
      "metadata": {
        "id": "qUpwVJnFHEsG",
        "colab": {
          "base_uri": "https://localhost:8080/"
        },
        "outputId": "c895ba7e-9ae3-4393-c358-01e8f09e7c35"
      },
      "execution_count": null,
      "outputs": [
        {
          "output_type": "execute_result",
          "data": {
            "text/plain": [
              "array([0., 0., 0., 0., 0., 0., 0., 0., 0., 0.])"
            ]
          },
          "metadata": {},
          "execution_count": 5
        }
      ]
    },
    {
      "cell_type": "markdown",
      "source": [],
      "metadata": {
        "id": "rFotkFa6I76v"
      }
    },
    {
      "cell_type": "code",
      "source": [
        "num_samples = 1000\n",
        "\n",
        "def print_statistics(model):\n",
        "  pref1_rewards = np.zeros(11)\n",
        "  pref2_rewards = np.zeros(11)\n",
        "\n",
        "  for _ in range(num_samples):\n",
        "    seq = model.sample()\n",
        "    pref1_rewards[preference1(seq)] += 1\n",
        "    pref1_rewards[preference2(seq)] += 1\n",
        "\n",
        "  \"\"\"This \"\"\""
      ],
      "metadata": {
        "id": "eDQTq1cpI8LC"
      },
      "execution_count": null,
      "outputs": []
    },
    {
      "cell_type": "code",
      "source": [],
      "metadata": {
        "id": "k-iXPRG1M0uY"
      },
      "execution_count": null,
      "outputs": []
    }
  ]
}